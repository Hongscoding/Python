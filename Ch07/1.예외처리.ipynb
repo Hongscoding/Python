{
 "cells": [
  {
   "cell_type": "code",
   "execution_count": null,
   "metadata": {},
   "outputs": [],
   "source": [
    "\"\"\"\n",
    "날짜 : 2023/01/12\n",
    "이름 : 홍민준\n",
    "내용 : 파이썬 예외처리 실습하기\n",
    "\"\"\""
   ]
  },
  {
   "cell_type": "code",
   "execution_count": 4,
   "metadata": {},
   "outputs": [
    {
     "name": "stdout",
     "output_type": "stream",
     "text": [
      "error\n",
      "1\n",
      "1\n",
      "0\n",
      "0\n"
     ]
    }
   ],
   "source": [
    "# try ~ except\n",
    "num1 , num2 = 1, 0\n",
    "r1 = r2 = r3 = r4 = 0 \n",
    "\n",
    "try:\n",
    "    r1 = num1 + num2\n",
    "    r2 = num1 - num2\n",
    "    r3 = num1 * num2\n",
    "    r4 = num1 / num2\n",
    "except:\n",
    "    print('error')\n",
    "print(r1)\n",
    "print(r2)\n",
    "print(r3)\n",
    "print(r4)"
   ]
  },
  {
   "cell_type": "code",
   "execution_count": 5,
   "metadata": {},
   "outputs": [
    {
     "name": "stdout",
     "output_type": "stream",
     "text": [
      "서울\n",
      "대전\n",
      "대구\n",
      "부산\n",
      "광주\n",
      "에러 내용 :  list index out of range\n",
      "예외처리 완료\n"
     ]
    }
   ],
   "source": [
    " # try ~ except ~ finally\n",
    "cities = ['서울','대전','대구','부산','광주']\n",
    "\n",
    "try:\n",
    "    for i in range(10):\n",
    "        print(cities[i])\n",
    "except Exception as e:\n",
    "    print('에러 내용 : ', e)\n",
    "finally:\n",
    "    print('예외처리 완료')\n"
   ]
  },
  {
   "cell_type": "code",
   "execution_count": null,
   "metadata": {},
   "outputs": [],
   "source": [
    "# try ~ except ~ else\n",
    "cities =['서울','대전','대구','부산','광주']\n",
    "result = None\n",
    "\n",
    "while True:\n",
    "    try:\n",
    "        print('1 ~ 5 선택하세요')\n",
    "        answer = int(input('선택 :'))\n",
    "\n",
    "        if answer == 0:\n",
    "            break\n",
    "\n",
    "        result = cities[answer-1]\n",
    "\n",
    "    except:\n",
    "        print('1~5 까지만')\n",
    "    else:\n",
    "        print('선택된 도시는 %s' %result)\n"
   ]
  },
  {
   "cell_type": "code",
   "execution_count": null,
   "metadata": {},
   "outputs": [],
   "source": []
  },
  {
   "cell_type": "code",
   "execution_count": null,
   "metadata": {},
   "outputs": [],
   "source": []
  },
  {
   "cell_type": "code",
   "execution_count": null,
   "metadata": {},
   "outputs": [],
   "source": []
  },
  {
   "cell_type": "code",
   "execution_count": null,
   "metadata": {},
   "outputs": [],
   "source": []
  }
 ],
 "metadata": {
  "kernelspec": {
   "display_name": "Python 3",
   "language": "python",
   "name": "python3"
  },
  "language_info": {
   "codemirror_mode": {
    "name": "ipython",
    "version": 3
   },
   "file_extension": ".py",
   "mimetype": "text/x-python",
   "name": "python",
   "nbconvert_exporter": "python",
   "pygments_lexer": "ipython3",
   "version": "3.10.9"
  },
  "orig_nbformat": 4,
  "vscode": {
   "interpreter": {
    "hash": "77a489476efef1010ed96ebe1ddfd5db2b7dc6850f00dd719880be9baf1ec5be"
   }
  }
 },
 "nbformat": 4,
 "nbformat_minor": 2
}
