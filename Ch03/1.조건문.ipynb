{
 "cells": [
  {
   "cell_type": "code",
   "execution_count": null,
   "metadata": {},
   "outputs": [],
   "source": [
    "\"\"\"\n",
    "날짜 : 2023/01/03\n",
    "이름 : 김철학\n",
    "내용 : 파이썬 조건문 실습하기\n",
    "\"\"\""
   ]
  },
  {
   "cell_type": "code",
   "execution_count": 1,
   "metadata": {},
   "outputs": [
    {
     "name": "stdout",
     "output_type": "stream",
     "text": [
      "num1 은 0보다 크다\n",
      "num1은 보다 크고 num2는 1보다 크다\n",
      "num1은 보다 크고 num2는 1보다 크다\n"
     ]
    }
   ],
   "source": [
    "# if\n",
    "num1, num2 = 1, 2\n",
    "\n",
    "if num1 > 0:\n",
    "    print('num1 은 0보다 크다')\n",
    "\n",
    "if num1 > num2:\n",
    "    print('num1은 num2보다 크다.')\n",
    "\n",
    "if num1 > 0:\n",
    "    if num2 > 1:\n",
    "        print('num1은 보다 크고 num2는 1보다 크다')\n",
    "\n",
    "if num1 > 0 and num2 > 1:\n",
    "        print('num1은 보다 크고 num2는 1보다 크다')"
   ]
  },
  {
   "cell_type": "code",
   "execution_count": null,
   "metadata": {},
   "outputs": [],
   "source": [
    "# if ~ else\n",
    "num3, num4 = 3, 4\n",
    "\n",
    "if num3 > num4:\n",
    "    print('num3가 num4보다 크다')\n",
    "else:\n",
    "    print('num4가 num3보다 크다')"
   ]
  },
  {
   "cell_type": "code",
   "execution_count": 2,
   "metadata": {},
   "outputs": [
    {
     "name": "stdout",
     "output_type": "stream",
     "text": [
      "num4가 가장 크다\n"
     ]
    }
   ],
   "source": [
    "# if ~ elif ~ else\n",
    "num1, num2, num3, num4 = 1,2,3,4\n",
    "\n",
    "if num1 > num2:\n",
    "    print('num1은 num2보다 크다.')\n",
    "\n",
    "elif num2 > num3:\n",
    "    print('num2은 num3보다 크다.')\n",
    "\n",
    "elif num3 > num4:\n",
    "    print('num3은 num4보다 크다.')\n",
    "else:\n",
    "    print('num4가 가장 크다')"
   ]
  },
  {
   "cell_type": "code",
   "execution_count": 3,
   "metadata": {},
   "outputs": [
    {
     "data": {
      "text/plain": [
       "''"
      ]
     },
     "execution_count": 3,
     "metadata": {},
     "output_type": "execute_result"
    }
   ],
   "source": [
    "# 연습문제\n",
    "score = int(input('점수 입력 : '))\n",
    "\n",
    "if score >= 90:\n",
    "    print('A 입니다.')\n",
    "elif score >= 80:\n",
    "    print('B 입니다.')\n",
    "elif score >= 70:\n",
    "    print('C 입니다.')\n",
    "elif score >= 60:\n",
    "    print('D 입니다.')\n",
    "elif score >= 50:\n",
    "    print('E 입니다.')\n",
    "else:\n",
    "    print('F 입니다.')\n"
   ]
  }
 ],
 "metadata": {
  "kernelspec": {
   "display_name": "Python 3",
   "language": "python",
   "name": "python3"
  },
  "language_info": {
   "codemirror_mode": {
    "name": "ipython",
    "version": 3
   },
   "file_extension": ".py",
   "mimetype": "text/x-python",
   "name": "python",
   "nbconvert_exporter": "python",
   "pygments_lexer": "ipython3",
   "version": "3.10.9"
  },
  "orig_nbformat": 4,
  "vscode": {
   "interpreter": {
    "hash": "77a489476efef1010ed96ebe1ddfd5db2b7dc6850f00dd719880be9baf1ec5be"
   }
  }
 },
 "nbformat": 4,
 "nbformat_minor": 2
}
