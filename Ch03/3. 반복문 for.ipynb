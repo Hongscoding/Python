{
 "cells": [
  {
   "cell_type": "code",
   "execution_count": 1,
   "metadata": {},
   "outputs": [
    {
     "data": {
      "text/plain": [
       "''"
      ]
     },
     "execution_count": 1,
     "metadata": {},
     "output_type": "execute_result"
    }
   ],
   "source": [
    "\"\"\"\n",
    "날짜 : 2023/01/03\n",
    "이름 : 홍민준\n",
    "내용 : 파이썬 반복문 for 실습하기\n",
    "\"\"\""
   ]
  },
  {
   "cell_type": "code",
   "execution_count": null,
   "metadata": {},
   "outputs": [],
   "source": [
    "# for\n",
    "for i in range(5):\n",
    "    print('i : ', i)\n",
    "\n",
    "for j in range(10, 20):\n",
    "    print('j : ', j)\n",
    "\n",
    "for k in range(10, 0, -1):\n",
    "    print('k : ', k)"
   ]
  },
  {
   "cell_type": "code",
   "execution_count": 7,
   "metadata": {},
   "outputs": [
    {
     "name": "stdout",
     "output_type": "stream",
     "text": [
      "total 55\n"
     ]
    }
   ],
   "source": [
    "# 1부터 10까지 합\n",
    "total = 0\n",
    "for i in range(11):\n",
    "    total += i\n",
    "\n",
    "print('total', total)"
   ]
  },
  {
   "cell_type": "code",
   "execution_count": 9,
   "metadata": {},
   "outputs": [
    {
     "name": "stdout",
     "output_type": "stream",
     "text": [
      "total 30\n"
     ]
    }
   ],
   "source": [
    "# 1부터 10까지 짝수 합\n",
    "total = 0\n",
    "\n",
    "for k in range(11):\n",
    "    if k % 2 == 0:\n",
    "        total += k \n",
    "print('total', total)"
   ]
  },
  {
   "cell_type": "code",
   "execution_count": 11,
   "metadata": {},
   "outputs": [
    {
     "name": "stdout",
     "output_type": "stream",
     "text": [
      "0\n",
      "0\n",
      "1\n",
      "2\n",
      "1\n",
      "0\n",
      "1\n",
      "2\n"
     ]
    }
   ],
   "source": [
    "# 중첩 for\n",
    "for a in range(2):\n",
    "    print(a)\n",
    "    for b in range(3):\n",
    "        print(b)"
   ]
  },
  {
   "cell_type": "code",
   "execution_count": 13,
   "metadata": {},
   "outputs": [
    {
     "ename": "SyntaxError",
     "evalue": "invalid syntax (3006552612.py, line 5)",
     "output_type": "error",
     "traceback": [
      "\u001b[1;36m  Cell \u001b[1;32mIn[13], line 5\u001b[1;36m\u001b[0m\n\u001b[1;33m    print('%d단', % dan)\u001b[0m\n\u001b[1;37m                 ^\u001b[0m\n\u001b[1;31mSyntaxError\u001b[0m\u001b[1;31m:\u001b[0m invalid syntax\n"
     ]
    }
   ],
   "source": [
    "# 구구단 출력\n",
    "for x in range(2, 10):\n",
    "    print(x, '단')\n",
    "    for y in range(1,10):\n",
    "        z = x * y\n",
    "        print('{} x {} = {}'.format(x,y,z))"
   ]
  }
 ],
 "metadata": {
  "kernelspec": {
   "display_name": "Python 3",
   "language": "python",
   "name": "python3"
  },
  "language_info": {
   "codemirror_mode": {
    "name": "ipython",
    "version": 3
   },
   "file_extension": ".py",
   "mimetype": "text/x-python",
   "name": "python",
   "nbconvert_exporter": "python",
   "pygments_lexer": "ipython3",
   "version": "3.10.9 (tags/v3.10.9:1dd9be6, Dec  6 2022, 20:01:21) [MSC v.1934 64 bit (AMD64)]"
  },
  "orig_nbformat": 4,
  "vscode": {
   "interpreter": {
    "hash": "77a489476efef1010ed96ebe1ddfd5db2b7dc6850f00dd719880be9baf1ec5be"
   }
  }
 },
 "nbformat": 4,
 "nbformat_minor": 2
}
