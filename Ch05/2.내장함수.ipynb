{
 "cells": [
  {
   "cell_type": "code",
   "execution_count": 1,
   "metadata": {},
   "outputs": [],
   "source": [
    "\"\"\"\n",
    "날짜 : 2023/01/10\n",
    "이름 : 홍민준\n",
    "내용 : 파이썬 내장 함수 실습하기\n",
    "\"\"\"\n",
    "import time\n",
    "import math\n",
    "import random"
   ]
  },
  {
   "cell_type": "code",
   "execution_count": 4,
   "metadata": {},
   "outputs": [
    {
     "name": "stdout",
     "output_type": "stream",
     "text": [
      "1673321680.6775606\n",
      "Tue Jan 10 12:34:40 2023\n",
      "2023년 01월 10일 12:34:40\n"
     ]
    }
   ],
   "source": [
    "# 시간 관련 함수\n",
    "t1 = time.time() # Unix time\n",
    "print(t1)\n",
    "\n",
    "t2 = time.ctime() # 변환된 Unix time\n",
    "print(t2)\n",
    "\n",
    "now = time.localtime(time.time())\n",
    "year = time.strftime('%Y', now)\n",
    "month = time.strftime('%m', now)\n",
    "date = time.strftime('%d', now)\n",
    "hour = time.strftime('%H', now)\n",
    "minute = time.strftime('%M', now)\n",
    "sec = time.strftime('%S', now)\n",
    "\n",
    "print('{}년 {}월 {}일 {}:{}:{}'.format(year,month,date,hour,minute,sec))"
   ]
  },
  {
   "cell_type": "code",
   "execution_count": 5,
   "metadata": {},
   "outputs": [
    {
     "name": "stdout",
     "output_type": "stream",
     "text": [
      "2\n",
      "2\n",
      "1\n",
      "1\n",
      "1\n",
      "2\n",
      "3.0\n"
     ]
    }
   ],
   "source": [
    "# 수학 관련 함수\n",
    "r1 = math.ceil(1.2)\n",
    "r2 = math.ceil(1.8)\n",
    "r3 = math.floor(1.2)\n",
    "r4 = math.floor(1.8)\n",
    "r5 = round(1.2)\n",
    "r6 = round(1.8)\n",
    "r7 = math.sqrt(9)\n",
    "print(r1)\n",
    "print(r2)\n",
    "print(r3)\n",
    "print(r4)\n",
    "print(r5)\n",
    "print(r6)\n",
    "print(r7)\n"
   ]
  },
  {
   "cell_type": "code",
   "execution_count": 11,
   "metadata": {},
   "outputs": [
    {
     "name": "stdout",
     "output_type": "stream",
     "text": [
      "0.47530967304840177\n",
      "4.7530967304840175\n",
      "5\n",
      "6\n"
     ]
    }
   ],
   "source": [
    "# random\n",
    "n1 = random.random()\n",
    "print(n1)\n",
    "\n",
    "n2 = n1 * 10\n",
    "print(n2)\n",
    "\n",
    "n3 = math.ceil(n2)\n",
    "print(n3)\n",
    "\n",
    "n4 = math.ceil(random.random() * 10)\n",
    "print(n4)"
   ]
  },
  {
   "cell_type": "code",
   "execution_count": null,
   "metadata": {},
   "outputs": [],
   "source": []
  },
  {
   "cell_type": "code",
   "execution_count": null,
   "metadata": {},
   "outputs": [],
   "source": []
  },
  {
   "cell_type": "code",
   "execution_count": null,
   "metadata": {},
   "outputs": [],
   "source": []
  },
  {
   "cell_type": "code",
   "execution_count": null,
   "metadata": {},
   "outputs": [],
   "source": []
  },
  {
   "cell_type": "code",
   "execution_count": null,
   "metadata": {},
   "outputs": [],
   "source": []
  },
  {
   "cell_type": "code",
   "execution_count": null,
   "metadata": {},
   "outputs": [],
   "source": []
  },
  {
   "cell_type": "code",
   "execution_count": null,
   "metadata": {},
   "outputs": [],
   "source": []
  },
  {
   "cell_type": "code",
   "execution_count": null,
   "metadata": {},
   "outputs": [],
   "source": []
  },
  {
   "cell_type": "code",
   "execution_count": null,
   "metadata": {},
   "outputs": [],
   "source": []
  },
  {
   "cell_type": "code",
   "execution_count": null,
   "metadata": {},
   "outputs": [],
   "source": []
  },
  {
   "cell_type": "code",
   "execution_count": null,
   "metadata": {},
   "outputs": [],
   "source": []
  },
  {
   "cell_type": "code",
   "execution_count": null,
   "metadata": {},
   "outputs": [],
   "source": []
  }
 ],
 "metadata": {
  "kernelspec": {
   "display_name": "Python 3",
   "language": "python",
   "name": "python3"
  },
  "language_info": {
   "codemirror_mode": {
    "name": "ipython",
    "version": 3
   },
   "file_extension": ".py",
   "mimetype": "text/x-python",
   "name": "python",
   "nbconvert_exporter": "python",
   "pygments_lexer": "ipython3",
   "version": "3.10.9"
  },
  "orig_nbformat": 4,
  "vscode": {
   "interpreter": {
    "hash": "77a489476efef1010ed96ebe1ddfd5db2b7dc6850f00dd719880be9baf1ec5be"
   }
  }
 },
 "nbformat": 4,
 "nbformat_minor": 2
}
