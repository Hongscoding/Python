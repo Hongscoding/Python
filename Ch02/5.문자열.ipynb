{
 "cells": [
  {
   "cell_type": "code",
   "execution_count": null,
   "metadata": {},
   "outputs": [],
   "source": [
    "\"\"\"\n",
    "날짜 : 2023/01/03\n",
    "이름 : 홍민준\n",
    "내용 : 파이썬 문자열 실습하기\n",
    "\"\"\"\n"
   ]
  },
  {
   "cell_type": "code",
   "execution_count": 3,
   "metadata": {},
   "outputs": [
    {
     "name": "stdout",
     "output_type": "stream",
     "text": [
      "test1 1번째 문자 :  H\n"
     ]
    }
   ],
   "source": [
    "#문자열인덱스\n",
    "test = 'Hello World'\n",
    "print('test1 1번째 문자 : ', test[0])"
   ]
  },
  {
   "cell_type": "code",
   "execution_count": 5,
   "metadata": {},
   "outputs": [
    {
     "name": "stdout",
     "output_type": "stream",
     "text": [
      "서울\n",
      "대전\n",
      "대구\n",
      "부산\n",
      "광주\n",
      "한국\t미국\t일본\t중국\n",
      "안녕하세요. '홍길동'님 반갑습니다\n",
      "안녕하세요. '홍길동'님 반갑습니다\n"
     ]
    }
   ],
   "source": [
    "# 문자열 이스케이프\n",
    "print('서울\\n대전\\n대구\\n부산\\n광주')\n",
    "print('한국\\t미국\\t일본\\t중국')\n",
    "print('안녕하세요. \\'홍길동\\'님 반갑습니다')\n",
    "print(\"안녕하세요. '홍길동'님 반갑습니다\")"
   ]
  }
 ],
 "metadata": {
  "kernelspec": {
   "display_name": "Python 3",
   "language": "python",
   "name": "python3"
  },
  "language_info": {
   "codemirror_mode": {
    "name": "ipython",
    "version": 3
   },
   "file_extension": ".py",
   "mimetype": "text/x-python",
   "name": "python",
   "nbconvert_exporter": "python",
   "pygments_lexer": "ipython3",
   "version": "3.10.9"
  },
  "orig_nbformat": 4,
  "vscode": {
   "interpreter": {
    "hash": "77a489476efef1010ed96ebe1ddfd5db2b7dc6850f00dd719880be9baf1ec5be"
   }
  }
 },
 "nbformat": 4,
 "nbformat_minor": 2
}
