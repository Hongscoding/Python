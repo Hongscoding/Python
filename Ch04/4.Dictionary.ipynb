{
 "cells": [
  {
   "cell_type": "code",
   "execution_count": 1,
   "metadata": {},
   "outputs": [
    {
     "data": {
      "text/plain": [
       "'\\n날짜 : 2023/01/09\\n이름 : 홍민준\\n내용 : 파이썬 딕셔너리 실습하기\\n'"
      ]
     },
     "execution_count": 1,
     "metadata": {},
     "output_type": "execute_result"
    }
   ],
   "source": [
    "\"\"\"\n",
    "날짜 : 2023/01/09\n",
    "이름 : 홍민준\n",
    "내용 : 파이썬 딕셔너리 실습하기\n",
    "\"\"\""
   ]
  },
  {
   "cell_type": "code",
   "execution_count": 2,
   "metadata": {},
   "outputs": [
    {
     "name": "stdout",
     "output_type": "stream",
     "text": [
      "dataSet : <class 'dict'>\n",
      "dataSet : {'A': 'Apple', 'B': 'Banana', 'C': 'Chreyy'}\n",
      "dataSet['A'] : Apple\n",
      "dataSet['B'] : Banana\n",
      "dataSet['C'] : Chreyy\n"
     ]
    }
   ],
   "source": [
    "# Dictionary\n",
    "dataset = {'A':'Apple', 'B':'Banana', 'C':'Chreyy', }\n",
    "\n",
    "print('dataSet :', type(dataset))\n",
    "print('dataSet :', dataset)\n",
    "print(\"dataSet['A'] :\", dataset['A'])\n",
    "print(\"dataSet['B'] :\", dataset['B'])\n",
    "print(\"dataSet['C'] :\", dataset['C'])"
   ]
  },
  {
   "cell_type": "code",
   "execution_count": 7,
   "metadata": {},
   "outputs": [
    {
     "name": "stdout",
     "output_type": "stream",
     "text": [
      "dataset : 3\n",
      "dataset : 7\n",
      "dataset : 대구\n",
      "dataset : 김유신\n"
     ]
    }
   ],
   "source": [
    "# 딕셔너리 활용\n",
    "\n",
    "dataset = {\n",
    "    101:[1,2,3,4,5],\n",
    "    102:(6,7,8,9),\n",
    "    103:{'서울','대전','대구','부산','광주'},\n",
    "    104:{'p1':'김유신', 'p2':'김춘추', 'p3':'장보고',}\n",
    "}\n",
    "\n",
    "print('dataset :', dataset[101][2])\n",
    "print('dataset :', dataset[102][1])\n",
    "print('dataset :', list(dataset[103])[3])\n",
    "print('dataset :', dataset[104]['p1'])"
   ]
  },
  {
   "cell_type": "code",
   "execution_count": 8,
   "metadata": {},
   "outputs": [
    {
     "name": "stdout",
     "output_type": "stream",
     "text": [
      "1 서울\n",
      "2 대전\n",
      "3 부산\n",
      "4 대구\n",
      "5 광주\n"
     ]
    }
   ],
   "source": [
    "# 딕셔너리 반복문\n",
    "dataset = {1:'서울', 2:'대전', 3:'부산', 4:'대구', 5:'광주'}\n",
    "\n",
    "for k, v in dataset.items():\n",
    "    print(k, v)"
   ]
  },
  {
   "cell_type": "code",
   "execution_count": null,
   "metadata": {},
   "outputs": [],
   "source": []
  },
  {
   "cell_type": "code",
   "execution_count": null,
   "metadata": {},
   "outputs": [],
   "source": []
  },
  {
   "cell_type": "code",
   "execution_count": null,
   "metadata": {},
   "outputs": [],
   "source": []
  },
  {
   "cell_type": "code",
   "execution_count": null,
   "metadata": {},
   "outputs": [],
   "source": []
  },
  {
   "cell_type": "code",
   "execution_count": null,
   "metadata": {},
   "outputs": [],
   "source": []
  },
  {
   "cell_type": "code",
   "execution_count": null,
   "metadata": {},
   "outputs": [],
   "source": []
  },
  {
   "cell_type": "code",
   "execution_count": null,
   "metadata": {},
   "outputs": [],
   "source": []
  },
  {
   "cell_type": "code",
   "execution_count": null,
   "metadata": {},
   "outputs": [],
   "source": []
  }
 ],
 "metadata": {
  "kernelspec": {
   "display_name": "Python 3",
   "language": "python",
   "name": "python3"
  },
  "language_info": {
   "codemirror_mode": {
    "name": "ipython",
    "version": 3
   },
   "file_extension": ".py",
   "mimetype": "text/x-python",
   "name": "python",
   "nbconvert_exporter": "python",
   "pygments_lexer": "ipython3",
   "version": "3.10.9"
  },
  "orig_nbformat": 4,
  "vscode": {
   "interpreter": {
    "hash": "77a489476efef1010ed96ebe1ddfd5db2b7dc6850f00dd719880be9baf1ec5be"
   }
  }
 },
 "nbformat": 4,
 "nbformat_minor": 2
}
